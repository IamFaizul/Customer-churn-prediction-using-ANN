{
  "metadata": {
    "kernelspec": {
      "language": "python",
      "display_name": "Python 3",
      "name": "python3"
    },
    "language_info": {
      "name": "python",
      "version": "3.10.13",
      "mimetype": "text/x-python",
      "codemirror_mode": {
        "name": "ipython",
        "version": 3
      },
      "pygments_lexer": "ipython3",
      "nbconvert_exporter": "python",
      "file_extension": ".py"
    },
    "kaggle": {
      "accelerator": "none",
      "dataSources": [
        {
          "sourceId": 1481789,
          "sourceType": "datasetVersion",
          "datasetId": 869651
        }
      ],
      "dockerImageVersionId": 30746,
      "isInternetEnabled": true,
      "language": "python",
      "sourceType": "notebook",
      "isGpuEnabled": false
    },
    "colab": {
      "name": "Churn prediction using ANN",
      "provenance": []
    }
  },
  "nbformat_minor": 0,
  "nbformat": 4,
  "cells": [
    {
      "source": [
        "\n",
        "# IMPORTANT: RUN THIS CELL IN ORDER TO IMPORT YOUR KAGGLE DATA SOURCES\n",
        "# TO THE CORRECT LOCATION (/kaggle/input) IN YOUR NOTEBOOK,\n",
        "# THEN FEEL FREE TO DELETE THIS CELL.\n",
        "# NOTE: THIS NOTEBOOK ENVIRONMENT DIFFERS FROM KAGGLE'S PYTHON\n",
        "# ENVIRONMENT SO THERE MAY BE MISSING LIBRARIES USED BY YOUR\n",
        "# NOTEBOOK.\n",
        "\n",
        "import os\n",
        "import sys\n",
        "from tempfile import NamedTemporaryFile\n",
        "from urllib.request import urlopen\n",
        "from urllib.parse import unquote, urlparse\n",
        "from urllib.error import HTTPError\n",
        "from zipfile import ZipFile\n",
        "import tarfile\n",
        "import shutil\n",
        "\n",
        "CHUNK_SIZE = 40960\n",
        "DATA_SOURCE_MAPPING = 'credit-card-customer-churn-prediction:https%3A%2F%2Fstorage.googleapis.com%2Fkaggle-data-sets%2F869651%2F1481789%2Fbundle%2Farchive.zip%3FX-Goog-Algorithm%3DGOOG4-RSA-SHA256%26X-Goog-Credential%3Dgcp-kaggle-com%2540kaggle-161607.iam.gserviceaccount.com%252F20240821%252Fauto%252Fstorage%252Fgoog4_request%26X-Goog-Date%3D20240821T043137Z%26X-Goog-Expires%3D259200%26X-Goog-SignedHeaders%3Dhost%26X-Goog-Signature%3D510b93df4f788b595f9968af9067a3f3a7c2634e27e16edfa4d7179d535f7811aaf70103aa054e9c3d6b559d78dd18938f2a85c33210c32de3d1a84f54bede9083d5efd4ab5baea37ef00c064a4084ef1a242433b12f83399027a4ccef825b5134918aaa8e86da9d4b619f56ad7aa5afba977e0f61087f78f5d9dd72b993d3aa17b10966c4336d702d1ad60b2b6198938a6fb00d062fee566690f39bbb7a80275b96655e352f39be7855970266e570a846b0811c96e1fb8988c21910a0d87fc76c34e4db6170800da3574a1031bfb5849a66a41c137f0445725ba0d1908df17a2f4a63cfa4b950f2a03cb8cf475e27e8ac561d4b133a8f66202b4b626fbc7875'\n",
        "\n",
        "KAGGLE_INPUT_PATH='/kaggle/input'\n",
        "KAGGLE_WORKING_PATH='/kaggle/working'\n",
        "KAGGLE_SYMLINK='kaggle'\n",
        "\n",
        "!umount /kaggle/input/ 2> /dev/null\n",
        "shutil.rmtree('/kaggle/input', ignore_errors=True)\n",
        "os.makedirs(KAGGLE_INPUT_PATH, 0o777, exist_ok=True)\n",
        "os.makedirs(KAGGLE_WORKING_PATH, 0o777, exist_ok=True)\n",
        "\n",
        "try:\n",
        "  os.symlink(KAGGLE_INPUT_PATH, os.path.join(\"..\", 'input'), target_is_directory=True)\n",
        "except FileExistsError:\n",
        "  pass\n",
        "try:\n",
        "  os.symlink(KAGGLE_WORKING_PATH, os.path.join(\"..\", 'working'), target_is_directory=True)\n",
        "except FileExistsError:\n",
        "  pass\n",
        "\n",
        "for data_source_mapping in DATA_SOURCE_MAPPING.split(','):\n",
        "    directory, download_url_encoded = data_source_mapping.split(':')\n",
        "    download_url = unquote(download_url_encoded)\n",
        "    filename = urlparse(download_url).path\n",
        "    destination_path = os.path.join(KAGGLE_INPUT_PATH, directory)\n",
        "    try:\n",
        "        with urlopen(download_url) as fileres, NamedTemporaryFile() as tfile:\n",
        "            total_length = fileres.headers['content-length']\n",
        "            print(f'Downloading {directory}, {total_length} bytes compressed')\n",
        "            dl = 0\n",
        "            data = fileres.read(CHUNK_SIZE)\n",
        "            while len(data) > 0:\n",
        "                dl += len(data)\n",
        "                tfile.write(data)\n",
        "                done = int(50 * dl / int(total_length))\n",
        "                sys.stdout.write(f\"\\r[{'=' * done}{' ' * (50-done)}] {dl} bytes downloaded\")\n",
        "                sys.stdout.flush()\n",
        "                data = fileres.read(CHUNK_SIZE)\n",
        "            if filename.endswith('.zip'):\n",
        "              with ZipFile(tfile) as zfile:\n",
        "                zfile.extractall(destination_path)\n",
        "            else:\n",
        "              with tarfile.open(tfile.name) as tarfile:\n",
        "                tarfile.extractall(destination_path)\n",
        "            print(f'\\nDownloaded and uncompressed: {directory}')\n",
        "    except HTTPError as e:\n",
        "        print(f'Failed to load (likely expired) {download_url} to path {destination_path}')\n",
        "        continue\n",
        "    except OSError as e:\n",
        "        print(f'Failed to load {download_url} to path {destination_path}')\n",
        "        continue\n",
        "\n",
        "print('Data source import complete.')\n"
      ],
      "metadata": {
        "id": "lSXHJ6HwNHDP"
      },
      "cell_type": "code",
      "outputs": [],
      "execution_count": null
    },
    {
      "cell_type": "code",
      "source": [
        "# This Python 3 environment comes with many helpful analytics libraries installed\n",
        "# It is defined by the kaggle/python Docker image: https://github.com/kaggle/docker-python\n",
        "# For example, here's several helpful packages to load\n",
        "\n",
        "import numpy as np # linear algebra\n",
        "import pandas as pd # data processing, CSV file I/O (e.g. pd.read_csv)\n",
        "\n",
        "# Input data files are available in the read-only \"../input/\" directory\n",
        "# For example, running this (by clicking run or pressing Shift+Enter) will list all files under the input directory\n",
        "\n",
        "import os\n",
        "for dirname, _, filenames in os.walk('/kaggle/input'):\n",
        "    for filename in filenames:\n",
        "        print(os.path.join(dirname, filename))\n",
        "\n",
        "# You can write up to 20GB to the current directory (/kaggle/working/) that gets preserved as output when you create a version using \"Save & Run All\"\n",
        "# You can also write temporary files to /kaggle/temp/, but they won't be saved outside of the current session"
      ],
      "metadata": {
        "_uuid": "8f2839f25d086af736a60e9eeb907d3b93b6e0e5",
        "_cell_guid": "b1076dfc-b9ad-4769-8c92-a6c4dae69d19",
        "execution": {
          "iopub.status.busy": "2024-08-19T05:26:27.117216Z",
          "iopub.execute_input": "2024-08-19T05:26:27.117662Z",
          "iopub.status.idle": "2024-08-19T05:26:27.125685Z",
          "shell.execute_reply.started": "2024-08-19T05:26:27.117603Z",
          "shell.execute_reply": "2024-08-19T05:26:27.124507Z"
        },
        "trusted": true,
        "id": "JUotI1FgNHDT"
      },
      "execution_count": null,
      "outputs": []
    },
    {
      "cell_type": "code",
      "source": [
        "df = pd.read_csv(\"/kaggle/input/credit-card-customer-churn-prediction/Churn_Modelling.csv\")\n",
        "df.head()"
      ],
      "metadata": {
        "execution": {
          "iopub.status.busy": "2024-08-19T05:26:27.128006Z",
          "iopub.execute_input": "2024-08-19T05:26:27.128565Z",
          "iopub.status.idle": "2024-08-19T05:26:27.1721Z",
          "shell.execute_reply.started": "2024-08-19T05:26:27.128521Z",
          "shell.execute_reply": "2024-08-19T05:26:27.170725Z"
        },
        "trusted": true,
        "id": "4jjaeMxXNHDU"
      },
      "execution_count": null,
      "outputs": []
    },
    {
      "cell_type": "code",
      "source": [
        "df.shape"
      ],
      "metadata": {
        "execution": {
          "iopub.status.busy": "2024-08-19T05:26:27.173912Z",
          "iopub.execute_input": "2024-08-19T05:26:27.174266Z",
          "iopub.status.idle": "2024-08-19T05:26:27.18171Z",
          "shell.execute_reply.started": "2024-08-19T05:26:27.174235Z",
          "shell.execute_reply": "2024-08-19T05:26:27.180482Z"
        },
        "trusted": true,
        "id": "F71Za_lyNHDU"
      },
      "execution_count": null,
      "outputs": []
    },
    {
      "cell_type": "code",
      "source": [
        "df.isnull().sum()"
      ],
      "metadata": {
        "execution": {
          "iopub.status.busy": "2024-08-19T05:26:27.182996Z",
          "iopub.execute_input": "2024-08-19T05:26:27.183432Z",
          "iopub.status.idle": "2024-08-19T05:26:27.200233Z",
          "shell.execute_reply.started": "2024-08-19T05:26:27.183398Z",
          "shell.execute_reply": "2024-08-19T05:26:27.198817Z"
        },
        "trusted": true,
        "id": "V4HiLlsCNHDV"
      },
      "execution_count": null,
      "outputs": []
    },
    {
      "cell_type": "code",
      "source": [
        "df.info()"
      ],
      "metadata": {
        "execution": {
          "iopub.status.busy": "2024-08-19T05:26:27.203112Z",
          "iopub.execute_input": "2024-08-19T05:26:27.203484Z",
          "iopub.status.idle": "2024-08-19T05:26:27.220114Z",
          "shell.execute_reply.started": "2024-08-19T05:26:27.203453Z",
          "shell.execute_reply": "2024-08-19T05:26:27.218789Z"
        },
        "trusted": true,
        "id": "p-0-5o8uNHDV"
      },
      "execution_count": null,
      "outputs": []
    },
    {
      "cell_type": "code",
      "source": [
        "df.duplicated().sum()"
      ],
      "metadata": {
        "execution": {
          "iopub.status.busy": "2024-08-19T05:26:27.221524Z",
          "iopub.execute_input": "2024-08-19T05:26:27.221922Z",
          "iopub.status.idle": "2024-08-19T05:26:27.238467Z",
          "shell.execute_reply.started": "2024-08-19T05:26:27.221883Z",
          "shell.execute_reply": "2024-08-19T05:26:27.237263Z"
        },
        "trusted": true,
        "id": "nyhX8gy8NHDV"
      },
      "execution_count": null,
      "outputs": []
    },
    {
      "cell_type": "code",
      "source": [
        "df['Exited'].value_counts()"
      ],
      "metadata": {
        "execution": {
          "iopub.status.busy": "2024-08-19T05:26:27.239849Z",
          "iopub.execute_input": "2024-08-19T05:26:27.240217Z",
          "iopub.status.idle": "2024-08-19T05:26:27.248956Z",
          "shell.execute_reply.started": "2024-08-19T05:26:27.240185Z",
          "shell.execute_reply": "2024-08-19T05:26:27.247817Z"
        },
        "trusted": true,
        "id": "X8fsbW7ENHDW"
      },
      "execution_count": null,
      "outputs": []
    },
    {
      "cell_type": "code",
      "source": [
        "# We are removing first 3 columns since they are not that important for further work\n",
        "\n",
        "\n",
        "df = df.drop(['RowNumber','CustomerId','Surname'],axis=1)\n",
        "df.head()"
      ],
      "metadata": {
        "execution": {
          "iopub.status.busy": "2024-08-19T05:26:27.250214Z",
          "iopub.execute_input": "2024-08-19T05:26:27.250533Z",
          "iopub.status.idle": "2024-08-19T05:26:27.274031Z",
          "shell.execute_reply.started": "2024-08-19T05:26:27.250508Z",
          "shell.execute_reply": "2024-08-19T05:26:27.272718Z"
        },
        "trusted": true,
        "id": "F9vnfbx8NHDW"
      },
      "execution_count": null,
      "outputs": []
    },
    {
      "cell_type": "code",
      "source": [
        "# Now we will encode the categorical columns\n",
        "\n",
        "df = pd.get_dummies(df,columns=['Geography','Gender'],drop_first=True,dtype=int)"
      ],
      "metadata": {
        "execution": {
          "iopub.status.busy": "2024-08-19T05:26:27.275567Z",
          "iopub.execute_input": "2024-08-19T05:26:27.275946Z",
          "iopub.status.idle": "2024-08-19T05:26:27.288164Z",
          "shell.execute_reply.started": "2024-08-19T05:26:27.275917Z",
          "shell.execute_reply": "2024-08-19T05:26:27.287046Z"
        },
        "trusted": true,
        "id": "lFGwmNOxNHDX"
      },
      "execution_count": null,
      "outputs": []
    },
    {
      "cell_type": "code",
      "source": [
        "x = df.drop('Exited',axis=1)\n",
        "y = df['Exited']"
      ],
      "metadata": {
        "execution": {
          "iopub.status.busy": "2024-08-19T05:26:27.289693Z",
          "iopub.execute_input": "2024-08-19T05:26:27.290076Z",
          "iopub.status.idle": "2024-08-19T05:26:27.297702Z",
          "shell.execute_reply.started": "2024-08-19T05:26:27.290036Z",
          "shell.execute_reply": "2024-08-19T05:26:27.296512Z"
        },
        "trusted": true,
        "id": "0-U2AAMrNHDX"
      },
      "execution_count": null,
      "outputs": []
    },
    {
      "cell_type": "code",
      "source": [
        "from sklearn.model_selection import train_test_split\n",
        "x_train,x_test,y_train,y_test = train_test_split(x,y,test_size=0.2,random_state=42)"
      ],
      "metadata": {
        "execution": {
          "iopub.status.busy": "2024-08-19T05:26:27.301586Z",
          "iopub.execute_input": "2024-08-19T05:26:27.302005Z",
          "iopub.status.idle": "2024-08-19T05:26:27.313599Z",
          "shell.execute_reply.started": "2024-08-19T05:26:27.301975Z",
          "shell.execute_reply": "2024-08-19T05:26:27.312422Z"
        },
        "trusted": true,
        "id": "gdDdL5MnNHDX"
      },
      "execution_count": null,
      "outputs": []
    },
    {
      "cell_type": "code",
      "source": [
        "from sklearn.preprocessing import StandardScaler\n",
        "scaler = StandardScaler()"
      ],
      "metadata": {
        "execution": {
          "iopub.status.busy": "2024-08-19T05:26:27.31507Z",
          "iopub.execute_input": "2024-08-19T05:26:27.31552Z",
          "iopub.status.idle": "2024-08-19T05:26:27.325992Z",
          "shell.execute_reply.started": "2024-08-19T05:26:27.31548Z",
          "shell.execute_reply": "2024-08-19T05:26:27.324938Z"
        },
        "trusted": true,
        "id": "oNhD-Xc9NHDY"
      },
      "execution_count": null,
      "outputs": []
    },
    {
      "cell_type": "code",
      "source": [
        "X_train_scaled = scaler.fit_transform(x_train)\n",
        "X_test_scaled = scaler.fit_transform(x_test)"
      ],
      "metadata": {
        "execution": {
          "iopub.status.busy": "2024-08-19T05:26:27.327228Z",
          "iopub.execute_input": "2024-08-19T05:26:27.327576Z",
          "iopub.status.idle": "2024-08-19T05:26:27.347536Z",
          "shell.execute_reply.started": "2024-08-19T05:26:27.327548Z",
          "shell.execute_reply": "2024-08-19T05:26:27.346434Z"
        },
        "trusted": true,
        "id": "o_i-7738NHDY"
      },
      "execution_count": null,
      "outputs": []
    },
    {
      "cell_type": "code",
      "source": [
        "X_train_scaled"
      ],
      "metadata": {
        "execution": {
          "iopub.status.busy": "2024-08-19T05:26:27.349234Z",
          "iopub.execute_input": "2024-08-19T05:26:27.349577Z",
          "iopub.status.idle": "2024-08-19T05:26:27.357368Z",
          "shell.execute_reply.started": "2024-08-19T05:26:27.349547Z",
          "shell.execute_reply": "2024-08-19T05:26:27.35613Z"
        },
        "trusted": true,
        "id": "0-19gUZcNHDY"
      },
      "execution_count": null,
      "outputs": []
    },
    {
      "cell_type": "code",
      "source": [
        "import tensorflow\n",
        "from tensorflow import keras\n",
        "from tensorflow.keras import Sequential\n",
        "from tensorflow.keras.layers import Dense"
      ],
      "metadata": {
        "execution": {
          "iopub.status.busy": "2024-08-19T05:26:27.358917Z",
          "iopub.execute_input": "2024-08-19T05:26:27.359839Z",
          "iopub.status.idle": "2024-08-19T05:26:27.368012Z",
          "shell.execute_reply.started": "2024-08-19T05:26:27.359798Z",
          "shell.execute_reply": "2024-08-19T05:26:27.366818Z"
        },
        "trusted": true,
        "id": "c2T5Q1JsNHDY"
      },
      "execution_count": null,
      "outputs": []
    },
    {
      "cell_type": "code",
      "source": [
        "model = Sequential()\n",
        "\n",
        "model.add(Dense(15,activation='relu',input_dim=11)) # input layer\n",
        "model.add(Dense(11,activation='relu')) # hidden layer\n",
        "model.add(Dense(1,activation='sigmoid')) # Output layer"
      ],
      "metadata": {
        "execution": {
          "iopub.status.busy": "2024-08-19T05:26:27.369467Z",
          "iopub.execute_input": "2024-08-19T05:26:27.370115Z",
          "iopub.status.idle": "2024-08-19T05:26:27.419548Z",
          "shell.execute_reply.started": "2024-08-19T05:26:27.370073Z",
          "shell.execute_reply": "2024-08-19T05:26:27.418247Z"
        },
        "trusted": true,
        "id": "rrjx8UCDNHDY"
      },
      "execution_count": null,
      "outputs": []
    },
    {
      "cell_type": "code",
      "source": [
        "model.summary()"
      ],
      "metadata": {
        "execution": {
          "iopub.status.busy": "2024-08-19T05:26:27.420844Z",
          "iopub.execute_input": "2024-08-19T05:26:27.421188Z",
          "iopub.status.idle": "2024-08-19T05:26:27.441314Z",
          "shell.execute_reply.started": "2024-08-19T05:26:27.421153Z",
          "shell.execute_reply": "2024-08-19T05:26:27.440248Z"
        },
        "trusted": true,
        "id": "lVNbbzxDNHDZ"
      },
      "execution_count": null,
      "outputs": []
    },
    {
      "cell_type": "code",
      "source": [
        "model.compile(loss='binary_crossentropy',optimizer='Adam',metrics=['accuracy'])"
      ],
      "metadata": {
        "execution": {
          "iopub.status.busy": "2024-08-19T05:26:27.44275Z",
          "iopub.execute_input": "2024-08-19T05:26:27.443194Z",
          "iopub.status.idle": "2024-08-19T05:26:27.45438Z",
          "shell.execute_reply.started": "2024-08-19T05:26:27.443152Z",
          "shell.execute_reply": "2024-08-19T05:26:27.453284Z"
        },
        "trusted": true,
        "id": "yZ01Er-HNHDZ"
      },
      "execution_count": null,
      "outputs": []
    },
    {
      "cell_type": "code",
      "source": [
        "history = model.fit(X_train_scaled,y_train,epochs=100,validation_split=0.2)"
      ],
      "metadata": {
        "execution": {
          "iopub.status.busy": "2024-08-19T05:26:27.455673Z",
          "iopub.execute_input": "2024-08-19T05:26:27.456003Z",
          "iopub.status.idle": "2024-08-19T05:27:06.074537Z",
          "shell.execute_reply.started": "2024-08-19T05:26:27.455974Z",
          "shell.execute_reply": "2024-08-19T05:27:06.073424Z"
        },
        "trusted": true,
        "id": "nVBh_qagNHDZ"
      },
      "execution_count": null,
      "outputs": []
    },
    {
      "cell_type": "code",
      "source": [
        "# Values of weights and biases in the first layer\n",
        "\n",
        "model.layers[0].get_weights()"
      ],
      "metadata": {
        "execution": {
          "iopub.status.busy": "2024-08-19T05:27:06.076952Z",
          "iopub.execute_input": "2024-08-19T05:27:06.077283Z",
          "iopub.status.idle": "2024-08-19T05:27:06.087572Z",
          "shell.execute_reply.started": "2024-08-19T05:27:06.077256Z",
          "shell.execute_reply": "2024-08-19T05:27:06.086191Z"
        },
        "trusted": true,
        "id": "nohdRllWNHDZ"
      },
      "execution_count": null,
      "outputs": []
    },
    {
      "cell_type": "code",
      "source": [
        "model.layers[1].get_weights()"
      ],
      "metadata": {
        "execution": {
          "iopub.status.busy": "2024-08-19T05:27:06.08927Z",
          "iopub.execute_input": "2024-08-19T05:27:06.089989Z",
          "iopub.status.idle": "2024-08-19T05:27:06.107775Z",
          "shell.execute_reply.started": "2024-08-19T05:27:06.089954Z",
          "shell.execute_reply": "2024-08-19T05:27:06.106668Z"
        },
        "trusted": true,
        "id": "EqUyzvCeNHDZ"
      },
      "execution_count": null,
      "outputs": []
    },
    {
      "cell_type": "code",
      "source": [
        "y_log = model.predict(X_test_scaled)\n",
        "y_log"
      ],
      "metadata": {
        "execution": {
          "iopub.status.busy": "2024-08-19T05:27:06.10936Z",
          "iopub.execute_input": "2024-08-19T05:27:06.109773Z",
          "iopub.status.idle": "2024-08-19T05:27:06.367486Z",
          "shell.execute_reply.started": "2024-08-19T05:27:06.109739Z",
          "shell.execute_reply": "2024-08-19T05:27:06.366394Z"
        },
        "trusted": true,
        "id": "Ze4JNt5SNHDZ"
      },
      "execution_count": null,
      "outputs": []
    },
    {
      "cell_type": "code",
      "source": [
        "y_pred = np.where(y_log>0.5,1,0)\n",
        "y_pred"
      ],
      "metadata": {
        "execution": {
          "iopub.status.busy": "2024-08-19T05:27:06.368787Z",
          "iopub.execute_input": "2024-08-19T05:27:06.369097Z",
          "iopub.status.idle": "2024-08-19T05:27:06.377165Z",
          "shell.execute_reply.started": "2024-08-19T05:27:06.369072Z",
          "shell.execute_reply": "2024-08-19T05:27:06.375926Z"
        },
        "trusted": true,
        "id": "3dG5kVM_NHDZ"
      },
      "execution_count": null,
      "outputs": []
    },
    {
      "cell_type": "code",
      "source": [
        "from sklearn.metrics import accuracy_score\n",
        "\n",
        "accuracy_score(y_test,y_pred)"
      ],
      "metadata": {
        "execution": {
          "iopub.status.busy": "2024-08-19T05:27:06.378786Z",
          "iopub.execute_input": "2024-08-19T05:27:06.379784Z",
          "iopub.status.idle": "2024-08-19T05:27:06.390961Z",
          "shell.execute_reply.started": "2024-08-19T05:27:06.379749Z",
          "shell.execute_reply": "2024-08-19T05:27:06.389703Z"
        },
        "trusted": true,
        "id": "vGJ-WMFdNHDZ"
      },
      "execution_count": null,
      "outputs": []
    },
    {
      "cell_type": "code",
      "source": [
        "import matplotlib.pyplot as plt\n",
        "history.history"
      ],
      "metadata": {
        "execution": {
          "iopub.status.busy": "2024-08-19T05:27:06.392509Z",
          "iopub.execute_input": "2024-08-19T05:27:06.393783Z",
          "iopub.status.idle": "2024-08-19T05:27:06.408412Z",
          "shell.execute_reply.started": "2024-08-19T05:27:06.393744Z",
          "shell.execute_reply": "2024-08-19T05:27:06.40714Z"
        },
        "trusted": true,
        "id": "o-MREgbPNHDa"
      },
      "execution_count": null,
      "outputs": []
    },
    {
      "cell_type": "code",
      "source": [
        "plt.plot(history.history['loss'])\n",
        "plt.plot(history.history['val_loss'])"
      ],
      "metadata": {
        "execution": {
          "iopub.status.busy": "2024-08-19T05:27:59.457848Z",
          "iopub.execute_input": "2024-08-19T05:27:59.458362Z",
          "iopub.status.idle": "2024-08-19T05:27:59.660492Z",
          "shell.execute_reply.started": "2024-08-19T05:27:59.458325Z",
          "shell.execute_reply": "2024-08-19T05:27:59.659214Z"
        },
        "trusted": true,
        "id": "bFAIg9rWNHDa"
      },
      "execution_count": null,
      "outputs": []
    },
    {
      "cell_type": "code",
      "source": [
        "plt.plot(history.history['accuracy'])\n",
        "plt.plot(history.history['val_accuracy'])"
      ],
      "metadata": {
        "execution": {
          "iopub.status.busy": "2024-08-19T05:28:29.059248Z",
          "iopub.execute_input": "2024-08-19T05:28:29.059722Z",
          "iopub.status.idle": "2024-08-19T05:28:29.298579Z",
          "shell.execute_reply.started": "2024-08-19T05:28:29.059685Z",
          "shell.execute_reply": "2024-08-19T05:28:29.297343Z"
        },
        "trusted": true,
        "id": "D8S4Tz0gNHDa"
      },
      "execution_count": null,
      "outputs": []
    },
    {
      "cell_type": "markdown",
      "source": [
        "## To be continued... 🚧"
      ],
      "metadata": {
        "id": "WgrcipUSNHDa"
      }
    },
    {
      "cell_type": "code",
      "source": [],
      "metadata": {
        "id": "CU-TpEYBNHDb"
      },
      "execution_count": null,
      "outputs": []
    }
  ]
}